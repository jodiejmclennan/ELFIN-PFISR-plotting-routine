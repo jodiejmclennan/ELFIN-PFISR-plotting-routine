{
 "cells": [
  {
   "cell_type": "markdown",
   "metadata": {},
   "source": [
    "# Summer 2024 Project \n"
   ]
  },
  {
   "cell_type": "markdown",
   "metadata": {},
   "source": [
    "Plotting routine to show the footprint of the ELFIN spacecraft and Poker Flat Inchoerent Scatter Radar (PFISR) field of view in the Poker Flat All Aky Image (ASI)\n",
    "\n"
   ]
  },
  {
   "cell_type": "markdown",
   "metadata": {},
   "source": [
    "Helpful links:\n",
    "- website about the Poker Flat All Sky Imager:\n",
    "\n",
    "- online database for the Poker Flat All Sky Imager: http://optics.gi.alaska.edu/realtime/data/MPEG/PKR_DASC_512/\n",
    "\n",
    "\n",
    "- How to map lat and longs onto ASI: \n",
    "\n",
    "\n",
    "\n",
    "\n",
    "- pulsating aurora information: "
   ]
  },
  {
   "cell_type": "code",
   "execution_count": 1,
   "metadata": {},
   "outputs": [],
   "source": [
    "# import libraries\n",
    "\n",
    "import pylab\n",
    "import imageio\n",
    "from PIL import Image\n",
    "from PIL import ImageDraw\n",
    "#import cv2\n",
    "from datetime import datetime, timedelta\n",
    "import importlib\n",
    "\n"
   ]
  },
  {
   "cell_type": "code",
   "execution_count": 4,
   "metadata": {},
   "outputs": [],
   "source": [
    "# load in video data:\n",
    "\n",
    "filename = 'allsky_2022_03_05.mp4'\n",
    "vid = imageio.get_reader(filename,  'ffmpeg')"
   ]
  },
  {
   "cell_type": "code",
   "execution_count": 2,
   "metadata": {},
   "outputs": [
    {
     "ename": "ImportError",
     "evalue": "IRBEM can't be imported. This is a required dependency for asilib.lla2footprint() that must be installed separately. See https://github.com/PRBEM/IRBEM and https://aurora-asi-lib.readthedocs.io/en/latest/installation.html.",
     "output_type": "error",
     "traceback": [
      "\u001b[1;31m---------------------------------------------------------------------------\u001b[0m",
      "\u001b[1;31mImportError\u001b[0m                               Traceback (most recent call last)",
      "Cell \u001b[1;32mIn[2], line 7\u001b[0m\n\u001b[0;32m      5\u001b[0m     \u001b[38;5;28;01mpass\u001b[39;00m  \u001b[38;5;66;03m# make sure that asilb.__init__ fully loads and crashes if the user calls asilib.lla2footprint() \u001b[39;00m\n\u001b[0;32m      6\u001b[0m \u001b[38;5;28;01mif\u001b[39;00m importlib\u001b[38;5;241m.\u001b[39mutil\u001b[38;5;241m.\u001b[39mfind_spec(\u001b[38;5;124m'\u001b[39m\u001b[38;5;124mIRBEM\u001b[39m\u001b[38;5;124m'\u001b[39m) \u001b[38;5;129;01mis\u001b[39;00m \u001b[38;5;28;01mNone\u001b[39;00m:\n\u001b[1;32m----> 7\u001b[0m             \u001b[38;5;28;01mraise\u001b[39;00m \u001b[38;5;167;01mImportError\u001b[39;00m(\n\u001b[0;32m      8\u001b[0m                 \u001b[38;5;124m\"\u001b[39m\u001b[38;5;124mIRBEM can\u001b[39m\u001b[38;5;124m'\u001b[39m\u001b[38;5;124mt be imported. This is a required dependency for asilib.lla2footprint()\u001b[39m\u001b[38;5;124m\"\u001b[39m\n\u001b[0;32m      9\u001b[0m                 \u001b[38;5;124m\"\u001b[39m\u001b[38;5;124m that must be installed separately. See https://github.com/PRBEM/IRBEM\u001b[39m\u001b[38;5;124m\"\u001b[39m\n\u001b[0;32m     10\u001b[0m                 \u001b[38;5;124m\"\u001b[39m\u001b[38;5;124m and https://aurora-asi-lib.readthedocs.io/en/latest/installation.html.\u001b[39m\u001b[38;5;124m\"\u001b[39m\n\u001b[0;32m     11\u001b[0m             )\n\u001b[0;32m     13\u001b[0m m \u001b[38;5;241m=\u001b[39m IRBEM\u001b[38;5;241m.\u001b[39mMagFields(kext\u001b[38;5;241m=\u001b[39m\u001b[38;5;124m'\u001b[39m\u001b[38;5;124mOPQ77\u001b[39m\u001b[38;5;124m'\u001b[39m)  \u001b[38;5;66;03m# Initialize the IRBEM model.\u001b[39;00m\n",
      "\u001b[1;31mImportError\u001b[0m: IRBEM can't be imported. This is a required dependency for asilib.lla2footprint() that must be installed separately. See https://github.com/PRBEM/IRBEM and https://aurora-asi-lib.readthedocs.io/en/latest/installation.html."
     ]
    }
   ],
   "source": [
    "# magnetic field model - from asilib\n",
    "try:\n",
    "    import IRBEM\n",
    "except ImportError:\n",
    "    pass  # make sure that asilb.__init__ fully loads and crashes if the user calls asilib.lla2footprint() \n",
    "if importlib.util.find_spec('IRBEM') is None:\n",
    "            raise ImportError(\n",
    "                \"IRBEM can't be imported. This is a required dependency for asilib.lla2footprint()\"\n",
    "                \" that must be installed separately. See https://github.com/PRBEM/IRBEM\"\n",
    "                \" and https://aurora-asi-lib.readthedocs.io/en/latest/installation.html.\"\n",
    "            )\n",
    "\n",
    "m = IRBEM.MagFields(kext='OPQ77')  # Initialize the IRBEM model.\n"
   ]
  },
  {
   "cell_type": "code",
   "execution_count": null,
   "metadata": {},
   "outputs": [],
   "source": []
  }
 ],
 "metadata": {
  "kernelspec": {
   "display_name": "pulsating_aurora",
   "language": "python",
   "name": "python3"
  },
  "language_info": {
   "codemirror_mode": {
    "name": "ipython",
    "version": 3
   },
   "file_extension": ".py",
   "mimetype": "text/x-python",
   "name": "python",
   "nbconvert_exporter": "python",
   "pygments_lexer": "ipython3",
   "version": "3.9.17"
  }
 },
 "nbformat": 4,
 "nbformat_minor": 2
}
